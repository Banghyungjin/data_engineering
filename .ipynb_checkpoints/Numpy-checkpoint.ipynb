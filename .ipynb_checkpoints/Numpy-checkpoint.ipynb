{
 "cells": [
  {
   "cell_type": "markdown",
   "id": "f271f884",
   "metadata": {},
   "source": [
    "#### zeros()\n",
    "##### - 괄호안에 입력된 숫자만큼의 원소를 생성하고 9으로 초기화"
   ]
  },
  {
   "cell_type": "code",
   "execution_count": 1,
   "id": "bd84f3d6",
   "metadata": {},
   "outputs": [
    {
     "data": {
      "text/plain": [
       "array([0, 0, 0, 0, 0, 0, 0, 0, 0, 0], dtype=int8)"
      ]
     },
     "execution_count": 1,
     "metadata": {},
     "output_type": "execute_result"
    }
   ],
   "source": [
    "import numpy as np\n",
    "x = np.array([1,2,3])\n",
    "y = np.zeros(shape=(10,), dtype=np.int8)\n",
    "y\n",
    "#type(x)"
   ]
  },
  {
   "cell_type": "code",
   "execution_count": 2,
   "id": "184d5d8d",
   "metadata": {},
   "outputs": [
    {
     "data": {
      "text/plain": [
       "(3,)"
      ]
     },
     "execution_count": 2,
     "metadata": {},
     "output_type": "execute_result"
    }
   ],
   "source": [
    "x.shape"
   ]
  },
  {
   "cell_type": "markdown",
   "id": "b453277e",
   "metadata": {},
   "source": [
    "#### mean()\n",
    "##### - 평균값 계산"
   ]
  },
  {
   "cell_type": "code",
   "execution_count": 3,
   "id": "71f73d7c",
   "metadata": {},
   "outputs": [
    {
     "data": {
      "text/plain": [
       "array([1, 2, 3])"
      ]
     },
     "execution_count": 3,
     "metadata": {},
     "output_type": "execute_result"
    }
   ],
   "source": [
    "import numpy as np\n",
    "list_1 = [1,2,3]\n",
    "x = np.array(list_1)\n",
    "x"
   ]
  },
  {
   "cell_type": "code",
   "execution_count": 4,
   "id": "32186165",
   "metadata": {},
   "outputs": [
    {
     "data": {
      "text/plain": [
       "2.0"
      ]
     },
     "execution_count": 4,
     "metadata": {},
     "output_type": "execute_result"
    }
   ],
   "source": [
    "x.mean()"
   ]
  },
  {
   "cell_type": "code",
   "execution_count": 5,
   "id": "b0e7dcf9",
   "metadata": {},
   "outputs": [
    {
     "data": {
      "text/plain": [
       "2.0"
      ]
     },
     "execution_count": 5,
     "metadata": {},
     "output_type": "execute_result"
    }
   ],
   "source": [
    "np.mean(x)"
   ]
  },
  {
   "cell_type": "markdown",
   "id": "33407eb9",
   "metadata": {},
   "source": [
    "#### array()\n",
    "##### 리스트나 튜플은 가능하지만 세트와 딕셔너리는 변환이 되지 않음"
   ]
  },
  {
   "cell_type": "code",
   "execution_count": 6,
   "id": "77f9f6be",
   "metadata": {},
   "outputs": [
    {
     "name": "stdout",
     "output_type": "stream",
     "text": [
      "[1 2 3] [1 2 3] {1, 2, 3} {'a': 'd'}\n"
     ]
    }
   ],
   "source": [
    "x = np.array([1,2,3])\n",
    "y = np.array((1,2,3))\n",
    "z = np.array({1,2,3})\n",
    "w = np.array({\"a\":\"b\",\"a\":\"d\"})\n",
    "print(x, y, z, w)"
   ]
  },
  {
   "cell_type": "markdown",
   "id": "f2f900c9",
   "metadata": {},
   "source": [
    "#### reshape()\n",
    "##### 배열을 원하는 모양으로 생성 (갯수가 맞아야 생성가능)"
   ]
  },
  {
   "cell_type": "markdown",
   "id": "cd0b952a",
   "metadata": {},
   "source": [
    "##### 2차원"
   ]
  },
  {
   "cell_type": "code",
   "execution_count": 7,
   "id": "3a4a13fe",
   "metadata": {},
   "outputs": [
    {
     "name": "stdout",
     "output_type": "stream",
     "text": [
      "[[1 2 3 4]\n",
      " [5 6 7 8]]\n",
      "\n",
      "\n",
      "[[1 2]\n",
      " [3 4]\n",
      " [5 6]\n",
      " [7 8]]\n"
     ]
    }
   ],
   "source": [
    "import numpy as np\n",
    "a = [1,2,3,4,5,6,7,8]\n",
    "b = np.reshape(a,(2,4))\n",
    "c = np.reshape(a,(4,2))\n",
    "print(b)\n",
    "print('\\n')\n",
    "print(c)"
   ]
  },
  {
   "cell_type": "markdown",
   "id": "12b8de4d",
   "metadata": {},
   "source": [
    "##### 3차원 (인자를 -1로 주면 나머지 인자와 변환 되기 전의 배열을 토대로 알맞은 숫자를 자동으로 설정해줌)"
   ]
  },
  {
   "cell_type": "code",
   "execution_count": 8,
   "id": "6e411638",
   "metadata": {},
   "outputs": [
    {
     "name": "stdout",
     "output_type": "stream",
     "text": [
      "[[[ 0  1]\n",
      "  [ 2  3]]\n",
      "\n",
      " [[ 4  5]\n",
      "  [ 6  7]]\n",
      "\n",
      " [[ 8  9]\n",
      "  [10 11]]] (3, 2, 2)\n",
      "\n",
      "\n",
      "[[[ 0  1]\n",
      "  [ 2  3]\n",
      "  [ 4  5]]\n",
      "\n",
      " [[ 6  7]\n",
      "  [ 8  9]\n",
      "  [10 11]]] (2, 3, 2)\n"
     ]
    }
   ],
   "source": [
    "a = np.arange(12)\n",
    "b = np.reshape(a,(3,2,2))\n",
    "c = np.reshape(a,(2,-1,2))\n",
    "print(b, b.shape)\n",
    "print('\\n')\n",
    "print(c, c.shape)"
   ]
  },
  {
   "cell_type": "markdown",
   "id": "f347000a",
   "metadata": {},
   "source": [
    "#### ones() = zeros()랑 비슷하게 1로 채움"
   ]
  },
  {
   "cell_type": "markdown",
   "id": "5198fabb",
   "metadata": {},
   "source": [
    "#### 배열 슬라이싱\n",
    "##### 파이썬의 2차원 리스트에서 모든 원소의 원하는 번 째 원소들만 출력"
   ]
  },
  {
   "cell_type": "code",
   "execution_count": 9,
   "id": "73fd2863",
   "metadata": {},
   "outputs": [
    {
     "name": "stdout",
     "output_type": "stream",
     "text": [
      "[[1, 11], [2, 12], [3, 13], [4, 14]]\n",
      "\n",
      "\n",
      "[11 12 13 14]\n",
      "\n",
      "\n",
      "[12 13 14]\n"
     ]
    }
   ],
   "source": [
    "import numpy as np\n",
    "a = [[1,11],[2,12],[3,13],[4,14]]\n",
    "print(a)\n",
    "print('\\n')\n",
    "arr_a = np.array(a)\n",
    "print(arr_a[:, 1])\n",
    "print('\\n')\n",
    "print(arr_a[1:,1])"
   ]
  },
  {
   "cell_type": "markdown",
   "id": "e803434f",
   "metadata": {},
   "source": [
    "#### math모듈의 sqrt()와 numpy모듈의 sqrt() 비교 (math는 숫자 하나만 가능하지만 numpy는 리스트 형식으로 많은 숫자를 한꺼번에 줄수 있다)"
   ]
  },
  {
   "cell_type": "code",
   "execution_count": 10,
   "id": "a9665ade",
   "metadata": {},
   "outputs": [
    {
     "data": {
      "text/plain": [
       "1.4142135623730951"
      ]
     },
     "execution_count": 10,
     "metadata": {},
     "output_type": "execute_result"
    }
   ],
   "source": [
    "import math\n",
    "math.sqrt(2)"
   ]
  },
  {
   "cell_type": "code",
   "execution_count": 11,
   "id": "64317005",
   "metadata": {},
   "outputs": [
    {
     "data": {
      "text/plain": [
       "array([1.41421356, 1.73205081, 2.        ])"
      ]
     },
     "execution_count": 11,
     "metadata": {},
     "output_type": "execute_result"
    }
   ],
   "source": [
    "import numpy\n",
    "numpy.sqrt([2,3,4])"
   ]
  },
  {
   "cell_type": "code",
   "execution_count": 12,
   "id": "635d1b22",
   "metadata": {},
   "outputs": [
    {
     "name": "stdout",
     "output_type": "stream",
     "text": [
      "[0. 0. 0. 0. 0. 0. 0. 0. 0. 0. 0. 0. 0. 0. 0.]\n",
      "[[0. 0. 0.]\n",
      " [0. 0. 0.]\n",
      " [0. 0. 0.]\n",
      " [0. 0. 0.]\n",
      " [0. 0. 0.]]\n",
      "[[0. 0. 0. 0. 0.]\n",
      " [0. 0. 0. 0. 0.]\n",
      " [0. 0. 0. 0. 0.]]\n"
     ]
    }
   ],
   "source": [
    "x = np.zeros(15)\n",
    "print(x)\n",
    "y = x.reshape([5,3])\n",
    "print(y)\n",
    "z = np.zeros([3,5])\n",
    "print(z)"
   ]
  },
  {
   "cell_type": "markdown",
   "id": "a57e171d",
   "metadata": {},
   "source": [
    "#### 배열에 숫자를 더하면 전체 원소에 더해짐"
   ]
  },
  {
   "cell_type": "code",
   "execution_count": 13,
   "id": "03bd54f4",
   "metadata": {},
   "outputs": [
    {
     "name": "stdout",
     "output_type": "stream",
     "text": [
      "[0. 0. 0. 0. 0. 0. 0. 0. 0. 0. 0. 0. 0. 0. 0.]\n",
      "[[4. 4. 4.]\n",
      " [4. 4. 4.]\n",
      " [4. 4. 4.]\n",
      " [4. 4. 4.]\n",
      " [4. 4. 4.]]\n"
     ]
    }
   ],
   "source": [
    "x = np.zeros(15)\n",
    "print(x)\n",
    "y = x.reshape([5,3])\n",
    "y += 4\n",
    "print(y)"
   ]
  },
  {
   "cell_type": "markdown",
   "id": "3220caff",
   "metadata": {},
   "source": [
    "### 전치 행렬\n",
    "##### transpose()"
   ]
  },
  {
   "cell_type": "code",
   "execution_count": 14,
   "id": "4ba0c805",
   "metadata": {},
   "outputs": [
    {
     "name": "stdout",
     "output_type": "stream",
     "text": [
      "[[1 2]\n",
      " [3 4]] \n",
      "\n",
      "[[1 3]\n",
      " [2 4]]\n"
     ]
    }
   ],
   "source": [
    "import numpy as np\n",
    "arr = np.array([[1,2],[3,4]])\n",
    "print(arr,'\\n')\n",
    "trans_arr = arr.transpose()\n",
    "print(trans_arr)"
   ]
  },
  {
   "cell_type": "markdown",
   "id": "38002af6",
   "metadata": {},
   "source": [
    "### 2개 배열에 대한 연산\n",
    "#### 각 배열의 인덱스 별로 계산"
   ]
  },
  {
   "cell_type": "code",
   "execution_count": 15,
   "id": "bb9a509b",
   "metadata": {},
   "outputs": [
    {
     "name": "stdout",
     "output_type": "stream",
     "text": [
      "[ 4 10 18]\n",
      "[  1  32 729]\n"
     ]
    }
   ],
   "source": [
    "import numpy as np\n",
    "x = np.array([1,2,3])\n",
    "y = np.array([4,5,6])\n",
    "print(x * y)\n",
    "print(x**y) "
   ]
  },
  {
   "cell_type": "markdown",
   "id": "f9c28dc3",
   "metadata": {},
   "source": [
    "### 인덱싱"
   ]
  },
  {
   "cell_type": "code",
   "execution_count": 16,
   "id": "ef410246",
   "metadata": {},
   "outputs": [
    {
     "name": "stdout",
     "output_type": "stream",
     "text": [
      "[4 5 6]\n",
      "5\n",
      "[2 5 8]\n"
     ]
    }
   ],
   "source": [
    "x = np.array([[1,2,3],[4,5,6],[7,8,9]])\n",
    "print(x[1]) \n",
    "print(x[1][1])\n",
    "print(x[:,1]) #각 배열의 index = 1 을 출력"
   ]
  },
  {
   "cell_type": "code",
   "execution_count": 17,
   "id": "bb661b24",
   "metadata": {},
   "outputs": [
    {
     "name": "stdout",
     "output_type": "stream",
     "text": [
      "[ 9 11 13]\n",
      "[[ 8 18 30]\n",
      " [32 45 60]\n",
      " [56 72 90]]\n",
      "[16 45 80]\n"
     ]
    }
   ],
   "source": [
    "x = np.array([[1,2,3],[4,5,6],[7,8,9]])\n",
    "y = np.array([[2,3,4],[5,6,7],[8,9,10]])\n",
    "print(x[0] + y[2])\n",
    "print(x * y[2])\n",
    "print(x[:,1] * y[2])"
   ]
  },
  {
   "cell_type": "markdown",
   "id": "1163d19c",
   "metadata": {},
   "source": [
    "#### random()"
   ]
  },
  {
   "cell_type": "code",
   "execution_count": 18,
   "id": "5e146414",
   "metadata": {},
   "outputs": [
    {
     "name": "stdout",
     "output_type": "stream",
     "text": [
      "[0.71748211 0.53250322 0.41949612 0.32161219 0.14363792] (5,)\n"
     ]
    }
   ],
   "source": [
    "import numpy as np\n",
    "ran1 = np.random.random(5)\n",
    "print (ran1, ran1.shape)"
   ]
  },
  {
   "cell_type": "code",
   "execution_count": 19,
   "id": "d58c04fd",
   "metadata": {},
   "outputs": [
    {
     "name": "stdout",
     "output_type": "stream",
     "text": [
      "[[0.50968241 0.55220647 0.64781743]\n",
      " [0.15890213 0.40187107 0.7019371 ]] (2, 3)\n"
     ]
    }
   ],
   "source": [
    "# 0 ~ 1범위에서 난수 생성\n",
    "ran2 = np.random.rand(2,3)\n",
    "print (ran2, ran2.shape)"
   ]
  },
  {
   "cell_type": "code",
   "execution_count": 20,
   "id": "23d46690",
   "metadata": {},
   "outputs": [
    {
     "name": "stdout",
     "output_type": "stream",
     "text": [
      "[2 2 2 2 2 0]\n",
      "[[8 2 2 2 4]\n",
      " [8 8 1 4 3]]\n"
     ]
    }
   ],
   "source": [
    "ran3 = np.random.randint(3, size = 6)\n",
    "print(ran3)\n",
    "ran4 = np.random.randint(10, size = (2,5))\n",
    "print(ran4)"
   ]
  },
  {
   "cell_type": "markdown",
   "id": "56f5e6a5",
   "metadata": {},
   "source": [
    "#### random.seed()"
   ]
  },
  {
   "cell_type": "code",
   "execution_count": 24,
   "id": "897f8ddb",
   "metadata": {},
   "outputs": [
    {
     "name": "stdout",
     "output_type": "stream",
     "text": [
      "[[0.69646919 0.28613933 0.22685145]\n",
      " [0.55131477 0.71946897 0.42310646]]\n"
     ]
    }
   ],
   "source": [
    "np.random.seed(123)\n",
    "print(np.random.rand(2,3))"
   ]
  },
  {
   "cell_type": "markdown",
   "id": "67e54c61",
   "metadata": {},
   "source": [
    "#### any(), all()"
   ]
  },
  {
   "cell_type": "code",
   "execution_count": 25,
   "id": "3d719d5e",
   "metadata": {},
   "outputs": [
    {
     "name": "stdout",
     "output_type": "stream",
     "text": [
      "[ True  True  True  True  True]\n",
      "True\n",
      "True\n"
     ]
    }
   ],
   "source": [
    "a = np.random.rand(5)\n",
    "print(a > 0.2)\n",
    "print(np.all(a > 0.2))\n",
    "print(np.any(a > 0.2))"
   ]
  },
  {
   "cell_type": "markdown",
   "id": "cfc08035",
   "metadata": {},
   "source": [
    "#### linspace()"
   ]
  },
  {
   "cell_type": "code",
   "execution_count": 39,
   "id": "88a0df1a",
   "metadata": {},
   "outputs": [
    {
     "data": {
      "text/plain": [
       "(array([ 0.,  4.,  8., 12.]), 4.0)"
      ]
     },
     "execution_count": 39,
     "metadata": {},
     "output_type": "execute_result"
    }
   ],
   "source": [
    "np.linspace(0,12, 4, retstep = True) # (시작값, 끝값, 나타낼 배열 원소 갯수) retstep = 간격 표시, endpoint = 마지막값 제외여부"
   ]
  },
  {
   "cell_type": "code",
   "execution_count": null,
   "id": "2b1dc6c3",
   "metadata": {},
   "outputs": [],
   "source": []
  }
 ],
 "metadata": {
  "kernelspec": {
   "display_name": "Python 3",
   "language": "python",
   "name": "python3"
  },
  "language_info": {
   "codemirror_mode": {
    "name": "ipython",
    "version": 3
   },
   "file_extension": ".py",
   "mimetype": "text/x-python",
   "name": "python",
   "nbconvert_exporter": "python",
   "pygments_lexer": "ipython3",
   "version": "3.8.9"
  }
 },
 "nbformat": 4,
 "nbformat_minor": 5
}
