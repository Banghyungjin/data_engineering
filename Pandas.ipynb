{
 "cells": [
  {
   "cell_type": "code",
   "execution_count": 12,
   "id": "b60cc8fa",
   "metadata": {},
   "outputs": [
    {
     "name": "stdout",
     "output_type": "stream",
     "text": [
      "Requirement already satisfied: pandas in c:\\users\\ad\\appdata\\local\\programs\\python\\python38\\lib\\site-packages (1.2.4)\n",
      "Requirement already satisfied: numpy>=1.16.5 in c:\\users\\ad\\appdata\\local\\programs\\python\\python38\\lib\\site-packages (from pandas) (1.20.2)\n",
      "Requirement already satisfied: pytz>=2017.3 in c:\\users\\ad\\appdata\\local\\programs\\python\\python38\\lib\\site-packages (from pandas) (2021.1)\n",
      "Requirement already satisfied: python-dateutil>=2.7.3 in c:\\users\\ad\\appdata\\local\\programs\\python\\python38\\lib\\site-packages (from pandas) (2.8.1)\n",
      "Requirement already satisfied: six>=1.5 in c:\\users\\ad\\appdata\\local\\programs\\python\\python38\\lib\\site-packages (from python-dateutil>=2.7.3->pandas) (1.15.0)\n"
     ]
    },
    {
     "name": "stderr",
     "output_type": "stream",
     "text": [
      "WARNING: You are using pip version 20.2.3; however, version 21.0.1 is available.\n",
      "You should consider upgrading via the 'c:\\users\\ad\\appdata\\local\\programs\\python\\python38\\python.exe -m pip install --upgrade pip' command.\n"
     ]
    }
   ],
   "source": [
    "!pip install pandas"
   ]
  },
  {
   "cell_type": "code",
   "execution_count": 1,
   "id": "26207947",
   "metadata": {},
   "outputs": [],
   "source": [
    "import pandas as pd"
   ]
  },
  {
   "cell_type": "code",
   "execution_count": 3,
   "id": "8f93f042",
   "metadata": {},
   "outputs": [],
   "source": [
    "df = pd.DataFrame(\n",
    "{\n",
    "    \"Name\": [\n",
    "        \"Braund, Mr. Owen Harris\",\n",
    "        \"Allen, Mr. William Henry\",\n",
    "        \"Bonnell, Miss. Elizabeth\",\n",
    "    ],\n",
    "    \"Age\": [22, 35, 58],\n",
    "    \"Sex\": [\"male\", \"male\", \"female\"],\n",
    "    }\n",
    ")"
   ]
  },
  {
   "cell_type": "code",
   "execution_count": 7,
   "id": "18d35868",
   "metadata": {},
   "outputs": [
    {
     "data": {
      "text/html": [
       "<div>\n",
       "<style scoped>\n",
       "    .dataframe tbody tr th:only-of-type {\n",
       "        vertical-align: middle;\n",
       "    }\n",
       "\n",
       "    .dataframe tbody tr th {\n",
       "        vertical-align: top;\n",
       "    }\n",
       "\n",
       "    .dataframe thead th {\n",
       "        text-align: right;\n",
       "    }\n",
       "</style>\n",
       "<table border=\"1\" class=\"dataframe\">\n",
       "  <thead>\n",
       "    <tr style=\"text-align: right;\">\n",
       "      <th></th>\n",
       "      <th>Name</th>\n",
       "      <th>Age</th>\n",
       "      <th>Sex</th>\n",
       "    </tr>\n",
       "  </thead>\n",
       "  <tbody>\n",
       "    <tr>\n",
       "      <th>0</th>\n",
       "      <td>Braund, Mr. Owen Harris</td>\n",
       "      <td>22</td>\n",
       "      <td>male</td>\n",
       "    </tr>\n",
       "    <tr>\n",
       "      <th>1</th>\n",
       "      <td>Allen, Mr. William Henry</td>\n",
       "      <td>35</td>\n",
       "      <td>male</td>\n",
       "    </tr>\n",
       "    <tr>\n",
       "      <th>2</th>\n",
       "      <td>Bonnell, Miss. Elizabeth</td>\n",
       "      <td>58</td>\n",
       "      <td>female</td>\n",
       "    </tr>\n",
       "  </tbody>\n",
       "</table>\n",
       "</div>"
      ],
      "text/plain": [
       "                       Name  Age     Sex\n",
       "0   Braund, Mr. Owen Harris   22    male\n",
       "1  Allen, Mr. William Henry   35    male\n",
       "2  Bonnell, Miss. Elizabeth   58  female"
      ]
     },
     "metadata": {},
     "output_type": "display_data"
    }
   ],
   "source": [
    "display(df)"
   ]
  },
  {
   "cell_type": "code",
   "execution_count": 4,
   "id": "5e535cb5",
   "metadata": {},
   "outputs": [
    {
     "data": {
      "text/plain": [
       "부산    1\n",
       "서울    2\n",
       "대전    3\n",
       "대구    4\n",
       "dtype: int64"
      ]
     },
     "metadata": {},
     "output_type": "display_data"
    }
   ],
   "source": [
    "se = pd.Series([1,2,3,4],{'서울','대전','대구','부산'})\n",
    "display(se)"
   ]
  },
  {
   "cell_type": "code",
   "execution_count": 5,
   "id": "4dc2a35c",
   "metadata": {},
   "outputs": [
    {
     "data": {
      "text/plain": [
       "2"
      ]
     },
     "execution_count": 5,
     "metadata": {},
     "output_type": "execute_result"
    }
   ],
   "source": [
    "se['서울']"
   ]
  },
  {
   "cell_type": "code",
   "execution_count": 8,
   "id": "a115777f",
   "metadata": {},
   "outputs": [
    {
     "data": {
      "text/plain": [
       "Index(['부산', '서울', '대전', '대구'], dtype='object')"
      ]
     },
     "execution_count": 8,
     "metadata": {},
     "output_type": "execute_result"
    }
   ],
   "source": [
    "se.index"
   ]
  },
  {
   "cell_type": "code",
   "execution_count": 9,
   "id": "99a770b0",
   "metadata": {},
   "outputs": [
    {
     "data": {
      "text/plain": [
       "array([1, 2, 3, 4], dtype=int64)"
      ]
     },
     "execution_count": 9,
     "metadata": {},
     "output_type": "execute_result"
    }
   ],
   "source": [
    "se.values"
   ]
  },
  {
   "cell_type": "code",
   "execution_count": 10,
   "id": "6aa79c75",
   "metadata": {},
   "outputs": [
    {
     "data": {
      "text/plain": [
       "<bound method IndexOpsMixin.value_counts of 부산    1\n",
       "서울    2\n",
       "대전    3\n",
       "대구    4\n",
       "dtype: int64>"
      ]
     },
     "execution_count": 10,
     "metadata": {},
     "output_type": "execute_result"
    }
   ],
   "source": [
    "se.value_counts"
   ]
  },
  {
   "cell_type": "code",
   "execution_count": 12,
   "id": "0b82f325",
   "metadata": {},
   "outputs": [
    {
     "data": {
      "text/plain": [
       "[1, 2, 3, 4]"
      ]
     },
     "metadata": {},
     "output_type": "display_data"
    }
   ],
   "source": [
    "sort = sorted(se.values)\n",
    "display(sort)"
   ]
  },
  {
   "cell_type": "code",
   "execution_count": 13,
   "id": "092462c3",
   "metadata": {},
   "outputs": [
    {
     "data": {
      "text/plain": [
       "['대구', '대전', '부산', '서울']"
      ]
     },
     "metadata": {},
     "output_type": "display_data"
    }
   ],
   "source": [
    "sort = sorted(se.index)\n",
    "display(sort)"
   ]
  },
  {
   "cell_type": "code",
   "execution_count": 14,
   "id": "4055567e",
   "metadata": {},
   "outputs": [
    {
     "data": {
      "text/plain": [
       "부산    2\n",
       "서울    4\n",
       "대전    6\n",
       "대구    8\n",
       "dtype: int64"
      ]
     },
     "execution_count": 14,
     "metadata": {},
     "output_type": "execute_result"
    }
   ],
   "source": [
    "se_x = pd.Series([1,2,3,4],{'서울','대전','대구','부산'})\n",
    "se_y = pd.Series([1,2,3,4],{'서울','대전','대구','부산'})\n",
    "se_x + se_y"
   ]
  },
  {
   "cell_type": "code",
   "execution_count": 15,
   "id": "7d082bd1",
   "metadata": {},
   "outputs": [
    {
     "data": {
      "text/plain": [
       "광주    NaN\n",
       "대구    NaN\n",
       "대전    6.0\n",
       "부산    2.0\n",
       "서울    4.0\n",
       "dtype: float64"
      ]
     },
     "execution_count": 15,
     "metadata": {},
     "output_type": "execute_result"
    }
   ],
   "source": [
    "se_x = pd.Series([1,2,3,4],{'서울','대전','대구','부산'})\n",
    "se_y = pd.Series([1,2,3,4],{'서울','대전','광주','부산'}) #인덱스가 같지 않으면 NaN으로 만듬\n",
    "se_x + se_y"
   ]
  },
  {
   "cell_type": "code",
   "execution_count": 19,
   "id": "559fb95d",
   "metadata": {},
   "outputs": [
    {
     "data": {
      "text/plain": [
       "array([1, 2, 3, 4, 5], dtype=int64)"
      ]
     },
     "execution_count": 19,
     "metadata": {},
     "output_type": "execute_result"
    }
   ],
   "source": [
    "medal = pd.Series([1,2,3,4,4,1,2,5])\n",
    "medal.unique()"
   ]
  },
  {
   "cell_type": "code",
   "execution_count": 22,
   "id": "920f4154",
   "metadata": {},
   "outputs": [
    {
     "data": {
      "text/plain": [
       "tony              15\n",
       "suzy              30\n",
       "dodo    [1, 3, 5, 7]\n",
       "dtype: object"
      ]
     },
     "execution_count": 22,
     "metadata": {},
     "output_type": "execute_result"
    }
   ],
   "source": [
    "data = {'alice': [1, 2, 3], 'bob': 20, 'tony': 15, 'suzy': 30,\"dodo\": [1,3,5,7], \"mario\": \"pitch\"}\n",
    "x = pd.Series(data)\n",
    "x[2:5]"
   ]
  },
  {
   "cell_type": "markdown",
   "id": "49f2ef27",
   "metadata": {},
   "source": [
    "### DataFrame"
   ]
  },
  {
   "cell_type": "code",
   "execution_count": 24,
   "id": "6be17dd2",
   "metadata": {},
   "outputs": [],
   "source": [
    "data = {\n",
    "    'age' : [23, 43, 12, 45],\n",
    "    'name' : ['민준', '형진', '희석', '석준'],\n",
    "    'height' : [160, 170, 180, 190]\n",
    "}\n",
    "df = pd.DataFrame(data, columns=['age', 'height','name'])"
   ]
  },
  {
   "cell_type": "code",
   "execution_count": 25,
   "id": "6c8b21a1",
   "metadata": {},
   "outputs": [
    {
     "data": {
      "text/html": [
       "<div>\n",
       "<style scoped>\n",
       "    .dataframe tbody tr th:only-of-type {\n",
       "        vertical-align: middle;\n",
       "    }\n",
       "\n",
       "    .dataframe tbody tr th {\n",
       "        vertical-align: top;\n",
       "    }\n",
       "\n",
       "    .dataframe thead th {\n",
       "        text-align: right;\n",
       "    }\n",
       "</style>\n",
       "<table border=\"1\" class=\"dataframe\">\n",
       "  <thead>\n",
       "    <tr style=\"text-align: right;\">\n",
       "      <th></th>\n",
       "      <th>age</th>\n",
       "      <th>height</th>\n",
       "      <th>name</th>\n",
       "    </tr>\n",
       "  </thead>\n",
       "  <tbody>\n",
       "    <tr>\n",
       "      <th>0</th>\n",
       "      <td>23</td>\n",
       "      <td>160</td>\n",
       "      <td>민준</td>\n",
       "    </tr>\n",
       "    <tr>\n",
       "      <th>1</th>\n",
       "      <td>43</td>\n",
       "      <td>170</td>\n",
       "      <td>형진</td>\n",
       "    </tr>\n",
       "    <tr>\n",
       "      <th>2</th>\n",
       "      <td>12</td>\n",
       "      <td>180</td>\n",
       "      <td>희석</td>\n",
       "    </tr>\n",
       "    <tr>\n",
       "      <th>3</th>\n",
       "      <td>45</td>\n",
       "      <td>190</td>\n",
       "      <td>석준</td>\n",
       "    </tr>\n",
       "  </tbody>\n",
       "</table>\n",
       "</div>"
      ],
      "text/plain": [
       "   age  height name\n",
       "0   23     160   민준\n",
       "1   43     170   형진\n",
       "2   12     180   희석\n",
       "3   45     190   석준"
      ]
     },
     "metadata": {},
     "output_type": "display_data"
    }
   ],
   "source": [
    "display(df)"
   ]
  },
  {
   "cell_type": "code",
   "execution_count": 26,
   "id": "e059d3b8",
   "metadata": {},
   "outputs": [
    {
     "data": {
      "text/plain": [
       "0    23\n",
       "1    43\n",
       "2    12\n",
       "3    45\n",
       "Name: age, dtype: int64"
      ]
     },
     "metadata": {},
     "output_type": "display_data"
    }
   ],
   "source": [
    "display(df['age'])"
   ]
  },
  {
   "cell_type": "code",
   "execution_count": 27,
   "id": "d027b2bd",
   "metadata": {},
   "outputs": [
    {
     "data": {
      "text/plain": [
       "0    23\n",
       "1    43\n",
       "2    12\n",
       "3    45\n",
       "Name: age, dtype: int64"
      ]
     },
     "metadata": {},
     "output_type": "display_data"
    }
   ],
   "source": [
    "display(df.age)"
   ]
  },
  {
   "cell_type": "markdown",
   "id": "dd86657b",
   "metadata": {},
   "source": [
    "#### iloc()"
   ]
  },
  {
   "cell_type": "code",
   "execution_count": 34,
   "id": "c406f0f6",
   "metadata": {},
   "outputs": [
    {
     "data": {
      "text/html": [
       "<div>\n",
       "<style scoped>\n",
       "    .dataframe tbody tr th:only-of-type {\n",
       "        vertical-align: middle;\n",
       "    }\n",
       "\n",
       "    .dataframe tbody tr th {\n",
       "        vertical-align: top;\n",
       "    }\n",
       "\n",
       "    .dataframe thead th {\n",
       "        text-align: right;\n",
       "    }\n",
       "</style>\n",
       "<table border=\"1\" class=\"dataframe\">\n",
       "  <thead>\n",
       "    <tr style=\"text-align: right;\">\n",
       "      <th></th>\n",
       "      <th>first</th>\n",
       "      <th>second</th>\n",
       "      <th>third</th>\n",
       "    </tr>\n",
       "  </thead>\n",
       "  <tbody>\n",
       "    <tr>\n",
       "      <th>0</th>\n",
       "      <td>1</td>\n",
       "      <td>2</td>\n",
       "      <td>3</td>\n",
       "    </tr>\n",
       "    <tr>\n",
       "      <th>1</th>\n",
       "      <td>2</td>\n",
       "      <td>3</td>\n",
       "      <td>4</td>\n",
       "    </tr>\n",
       "    <tr>\n",
       "      <th>2</th>\n",
       "      <td>3</td>\n",
       "      <td>4</td>\n",
       "      <td>5</td>\n",
       "    </tr>\n",
       "    <tr>\n",
       "      <th>3</th>\n",
       "      <td>4</td>\n",
       "      <td>5</td>\n",
       "      <td>6</td>\n",
       "    </tr>\n",
       "  </tbody>\n",
       "</table>\n",
       "</div>"
      ],
      "text/plain": [
       "   first  second  third\n",
       "0      1       2      3\n",
       "1      2       3      4\n",
       "2      3       4      5\n",
       "3      4       5      6"
      ]
     },
     "execution_count": 34,
     "metadata": {},
     "output_type": "execute_result"
    }
   ],
   "source": [
    "ary = pd.DataFrame([[1,2,3],[2,3,4],[3,4,5],[4,5,6]], columns=['first','second','third'])\n",
    "ary"
   ]
  },
  {
   "cell_type": "code",
   "execution_count": 40,
   "id": "7cdcdee1",
   "metadata": {},
   "outputs": [
    {
     "data": {
      "text/plain": [
       "first     2\n",
       "second    3\n",
       "third     4\n",
       "Name: 1, dtype: int64"
      ]
     },
     "execution_count": 40,
     "metadata": {},
     "output_type": "execute_result"
    }
   ],
   "source": [
    "ary.iloc[1] #1 인덱스 열의 데이터"
   ]
  },
  {
   "cell_type": "code",
   "execution_count": 48,
   "id": "060c9be0",
   "metadata": {},
   "outputs": [
    {
     "data": {
      "text/html": [
       "<div>\n",
       "<style scoped>\n",
       "    .dataframe tbody tr th:only-of-type {\n",
       "        vertical-align: middle;\n",
       "    }\n",
       "\n",
       "    .dataframe tbody tr th {\n",
       "        vertical-align: top;\n",
       "    }\n",
       "\n",
       "    .dataframe thead th {\n",
       "        text-align: right;\n",
       "    }\n",
       "</style>\n",
       "<table border=\"1\" class=\"dataframe\">\n",
       "  <thead>\n",
       "    <tr style=\"text-align: right;\">\n",
       "      <th></th>\n",
       "      <th>first</th>\n",
       "      <th>second</th>\n",
       "      <th>third</th>\n",
       "    </tr>\n",
       "  </thead>\n",
       "  <tbody>\n",
       "    <tr>\n",
       "      <th>0</th>\n",
       "      <td>1</td>\n",
       "      <td>2</td>\n",
       "      <td>3</td>\n",
       "    </tr>\n",
       "  </tbody>\n",
       "</table>\n",
       "</div>"
      ],
      "text/plain": [
       "   first  second  third\n",
       "0      1       2      3"
      ]
     },
     "execution_count": 48,
     "metadata": {},
     "output_type": "execute_result"
    }
   ],
   "source": [
    "ary.iloc[0:1] #0이상 1미만 행의 데이터 [0: 0, x]로 x열의 데이터만 뽑아올수도 있다"
   ]
  },
  {
   "cell_type": "code",
   "execution_count": 56,
   "id": "4b902936",
   "metadata": {},
   "outputs": [
    {
     "data": {
      "text/html": [
       "<div>\n",
       "<style scoped>\n",
       "    .dataframe tbody tr th:only-of-type {\n",
       "        vertical-align: middle;\n",
       "    }\n",
       "\n",
       "    .dataframe tbody tr th {\n",
       "        vertical-align: top;\n",
       "    }\n",
       "\n",
       "    .dataframe thead th {\n",
       "        text-align: right;\n",
       "    }\n",
       "</style>\n",
       "<table border=\"1\" class=\"dataframe\">\n",
       "  <thead>\n",
       "    <tr style=\"text-align: right;\">\n",
       "      <th></th>\n",
       "      <th>id</th>\n",
       "      <th>keyword</th>\n",
       "      <th>location</th>\n",
       "      <th>text</th>\n",
       "    </tr>\n",
       "  </thead>\n",
       "  <tbody>\n",
       "    <tr>\n",
       "      <th>0</th>\n",
       "      <td>0</td>\n",
       "      <td>NaN</td>\n",
       "      <td>NaN</td>\n",
       "      <td>Just happened a terrible car crash</td>\n",
       "    </tr>\n",
       "    <tr>\n",
       "      <th>1</th>\n",
       "      <td>2</td>\n",
       "      <td>NaN</td>\n",
       "      <td>NaN</td>\n",
       "      <td>Heard about #earthquake is different cities, s...</td>\n",
       "    </tr>\n",
       "    <tr>\n",
       "      <th>2</th>\n",
       "      <td>3</td>\n",
       "      <td>NaN</td>\n",
       "      <td>NaN</td>\n",
       "      <td>there is a forest fire at spot pond, geese are...</td>\n",
       "    </tr>\n",
       "    <tr>\n",
       "      <th>3</th>\n",
       "      <td>9</td>\n",
       "      <td>NaN</td>\n",
       "      <td>NaN</td>\n",
       "      <td>Apocalypse lighting. #Spokane #wildfires</td>\n",
       "    </tr>\n",
       "    <tr>\n",
       "      <th>4</th>\n",
       "      <td>11</td>\n",
       "      <td>NaN</td>\n",
       "      <td>NaN</td>\n",
       "      <td>Typhoon Soudelor kills 28 in China and Taiwan</td>\n",
       "    </tr>\n",
       "    <tr>\n",
       "      <th>5</th>\n",
       "      <td>12</td>\n",
       "      <td>NaN</td>\n",
       "      <td>NaN</td>\n",
       "      <td>We're shaking...It's an earthquake</td>\n",
       "    </tr>\n",
       "    <tr>\n",
       "      <th>6</th>\n",
       "      <td>21</td>\n",
       "      <td>NaN</td>\n",
       "      <td>NaN</td>\n",
       "      <td>They'd probably still show more life than Arse...</td>\n",
       "    </tr>\n",
       "    <tr>\n",
       "      <th>7</th>\n",
       "      <td>22</td>\n",
       "      <td>NaN</td>\n",
       "      <td>NaN</td>\n",
       "      <td>Hey! How are you?</td>\n",
       "    </tr>\n",
       "    <tr>\n",
       "      <th>8</th>\n",
       "      <td>27</td>\n",
       "      <td>NaN</td>\n",
       "      <td>NaN</td>\n",
       "      <td>What a nice hat?</td>\n",
       "    </tr>\n",
       "    <tr>\n",
       "      <th>9</th>\n",
       "      <td>29</td>\n",
       "      <td>NaN</td>\n",
       "      <td>NaN</td>\n",
       "      <td>Fuck off!</td>\n",
       "    </tr>\n",
       "  </tbody>\n",
       "</table>\n",
       "</div>"
      ],
      "text/plain": [
       "   id keyword location                                               text\n",
       "0   0     NaN      NaN                 Just happened a terrible car crash\n",
       "1   2     NaN      NaN  Heard about #earthquake is different cities, s...\n",
       "2   3     NaN      NaN  there is a forest fire at spot pond, geese are...\n",
       "3   9     NaN      NaN           Apocalypse lighting. #Spokane #wildfires\n",
       "4  11     NaN      NaN      Typhoon Soudelor kills 28 in China and Taiwan\n",
       "5  12     NaN      NaN                 We're shaking...It's an earthquake\n",
       "6  21     NaN      NaN  They'd probably still show more life than Arse...\n",
       "7  22     NaN      NaN                                  Hey! How are you?\n",
       "8  27     NaN      NaN                                   What a nice hat?\n",
       "9  29     NaN      NaN                                          Fuck off!"
      ]
     },
     "execution_count": 56,
     "metadata": {},
     "output_type": "execute_result"
    }
   ],
   "source": [
    "data = pd.read_csv(\"./data/test.csv\")\n",
    "data.head(10)"
   ]
  },
  {
   "cell_type": "code",
   "execution_count": 57,
   "id": "c8de9b82",
   "metadata": {},
   "outputs": [
    {
     "data": {
      "text/html": [
       "<div>\n",
       "<style scoped>\n",
       "    .dataframe tbody tr th:only-of-type {\n",
       "        vertical-align: middle;\n",
       "    }\n",
       "\n",
       "    .dataframe tbody tr th {\n",
       "        vertical-align: top;\n",
       "    }\n",
       "\n",
       "    .dataframe thead th {\n",
       "        text-align: right;\n",
       "    }\n",
       "</style>\n",
       "<table border=\"1\" class=\"dataframe\">\n",
       "  <thead>\n",
       "    <tr style=\"text-align: right;\">\n",
       "      <th></th>\n",
       "      <th>id</th>\n",
       "      <th>keyword</th>\n",
       "      <th>location</th>\n",
       "      <th>text</th>\n",
       "    </tr>\n",
       "  </thead>\n",
       "  <tbody>\n",
       "    <tr>\n",
       "      <th>3253</th>\n",
       "      <td>10838</td>\n",
       "      <td>NaN</td>\n",
       "      <td>NaN</td>\n",
       "      <td>Malaysian PM confirms debris is from missing f...</td>\n",
       "    </tr>\n",
       "    <tr>\n",
       "      <th>3254</th>\n",
       "      <td>10845</td>\n",
       "      <td>NaN</td>\n",
       "      <td>NaN</td>\n",
       "      <td>Officials: Alabama home quarantined over possi...</td>\n",
       "    </tr>\n",
       "    <tr>\n",
       "      <th>3255</th>\n",
       "      <td>10856</td>\n",
       "      <td>NaN</td>\n",
       "      <td>NaN</td>\n",
       "      <td>See the 16yr old PKK suicide bomber who detona...</td>\n",
       "    </tr>\n",
       "    <tr>\n",
       "      <th>3256</th>\n",
       "      <td>10857</td>\n",
       "      <td>NaN</td>\n",
       "      <td>NaN</td>\n",
       "      <td>To conference attendees! The blue line from th...</td>\n",
       "    </tr>\n",
       "    <tr>\n",
       "      <th>3257</th>\n",
       "      <td>10858</td>\n",
       "      <td>NaN</td>\n",
       "      <td>NaN</td>\n",
       "      <td>The death toll in a #IS-suicide car bombing on...</td>\n",
       "    </tr>\n",
       "    <tr>\n",
       "      <th>3258</th>\n",
       "      <td>10861</td>\n",
       "      <td>NaN</td>\n",
       "      <td>NaN</td>\n",
       "      <td>EARTHQUAKE SAFETY LOS ANGELES ÛÒ SAFETY FASTE...</td>\n",
       "    </tr>\n",
       "    <tr>\n",
       "      <th>3259</th>\n",
       "      <td>10865</td>\n",
       "      <td>NaN</td>\n",
       "      <td>NaN</td>\n",
       "      <td>Storm in RI worse than last hurricane. My city...</td>\n",
       "    </tr>\n",
       "    <tr>\n",
       "      <th>3260</th>\n",
       "      <td>10868</td>\n",
       "      <td>NaN</td>\n",
       "      <td>NaN</td>\n",
       "      <td>Green Line derailment in Chicago http://t.co/U...</td>\n",
       "    </tr>\n",
       "    <tr>\n",
       "      <th>3261</th>\n",
       "      <td>10874</td>\n",
       "      <td>NaN</td>\n",
       "      <td>NaN</td>\n",
       "      <td>MEG issues Hazardous Weather Outlook (HWO) htt...</td>\n",
       "    </tr>\n",
       "    <tr>\n",
       "      <th>3262</th>\n",
       "      <td>10875</td>\n",
       "      <td>NaN</td>\n",
       "      <td>NaN</td>\n",
       "      <td>#CityofCalgary has activated its Municipal Eme...</td>\n",
       "    </tr>\n",
       "  </tbody>\n",
       "</table>\n",
       "</div>"
      ],
      "text/plain": [
       "         id keyword location  \\\n",
       "3253  10838     NaN      NaN   \n",
       "3254  10845     NaN      NaN   \n",
       "3255  10856     NaN      NaN   \n",
       "3256  10857     NaN      NaN   \n",
       "3257  10858     NaN      NaN   \n",
       "3258  10861     NaN      NaN   \n",
       "3259  10865     NaN      NaN   \n",
       "3260  10868     NaN      NaN   \n",
       "3261  10874     NaN      NaN   \n",
       "3262  10875     NaN      NaN   \n",
       "\n",
       "                                                   text  \n",
       "3253  Malaysian PM confirms debris is from missing f...  \n",
       "3254  Officials: Alabama home quarantined over possi...  \n",
       "3255  See the 16yr old PKK suicide bomber who detona...  \n",
       "3256  To conference attendees! The blue line from th...  \n",
       "3257  The death toll in a #IS-suicide car bombing on...  \n",
       "3258  EARTHQUAKE SAFETY LOS ANGELES ÛÒ SAFETY FASTE...  \n",
       "3259  Storm in RI worse than last hurricane. My city...  \n",
       "3260  Green Line derailment in Chicago http://t.co/U...  \n",
       "3261  MEG issues Hazardous Weather Outlook (HWO) htt...  \n",
       "3262  #CityofCalgary has activated its Municipal Eme...  "
      ]
     },
     "execution_count": 57,
     "metadata": {},
     "output_type": "execute_result"
    }
   ],
   "source": [
    "data.tail(10)"
   ]
  },
  {
   "cell_type": "code",
   "execution_count": 59,
   "id": "21bc7a92",
   "metadata": {},
   "outputs": [
    {
     "data": {
      "text/html": [
       "<div>\n",
       "<style scoped>\n",
       "    .dataframe tbody tr th:only-of-type {\n",
       "        vertical-align: middle;\n",
       "    }\n",
       "\n",
       "    .dataframe tbody tr th {\n",
       "        vertical-align: top;\n",
       "    }\n",
       "\n",
       "    .dataframe thead th {\n",
       "        text-align: right;\n",
       "    }\n",
       "</style>\n",
       "<table border=\"1\" class=\"dataframe\">\n",
       "  <thead>\n",
       "    <tr style=\"text-align: right;\">\n",
       "      <th></th>\n",
       "      <th>id</th>\n",
       "      <th>keyword</th>\n",
       "      <th>location</th>\n",
       "      <th>text</th>\n",
       "    </tr>\n",
       "  </thead>\n",
       "  <tbody>\n",
       "    <tr>\n",
       "      <th>0</th>\n",
       "      <td>0</td>\n",
       "      <td>NaN</td>\n",
       "      <td>NaN</td>\n",
       "      <td>Just happened a terrible car crash</td>\n",
       "    </tr>\n",
       "    <tr>\n",
       "      <th>1</th>\n",
       "      <td>2</td>\n",
       "      <td>NaN</td>\n",
       "      <td>NaN</td>\n",
       "      <td>Heard about #earthquake is different cities, s...</td>\n",
       "    </tr>\n",
       "    <tr>\n",
       "      <th>2</th>\n",
       "      <td>3</td>\n",
       "      <td>NaN</td>\n",
       "      <td>NaN</td>\n",
       "      <td>there is a forest fire at spot pond, geese are...</td>\n",
       "    </tr>\n",
       "    <tr>\n",
       "      <th>3</th>\n",
       "      <td>9</td>\n",
       "      <td>NaN</td>\n",
       "      <td>NaN</td>\n",
       "      <td>Apocalypse lighting. #Spokane #wildfires</td>\n",
       "    </tr>\n",
       "    <tr>\n",
       "      <th>4</th>\n",
       "      <td>11</td>\n",
       "      <td>NaN</td>\n",
       "      <td>NaN</td>\n",
       "      <td>Typhoon Soudelor kills 28 in China and Taiwan</td>\n",
       "    </tr>\n",
       "    <tr>\n",
       "      <th>...</th>\n",
       "      <td>...</td>\n",
       "      <td>...</td>\n",
       "      <td>...</td>\n",
       "      <td>...</td>\n",
       "    </tr>\n",
       "    <tr>\n",
       "      <th>3248</th>\n",
       "      <td>10807</td>\n",
       "      <td>wrecked</td>\n",
       "      <td>Acey mountain islanddåÇTorontoåÈ</td>\n",
       "      <td>Smackdown tyme this should put me in a good mo...</td>\n",
       "    </tr>\n",
       "    <tr>\n",
       "      <th>3249</th>\n",
       "      <td>10816</td>\n",
       "      <td>wrecked</td>\n",
       "      <td>los angeles</td>\n",
       "      <td>@thrillhho jsyk I haven't stopped thinking abt...</td>\n",
       "    </tr>\n",
       "    <tr>\n",
       "      <th>3250</th>\n",
       "      <td>10820</td>\n",
       "      <td>wrecked</td>\n",
       "      <td>Brussels, Belgium</td>\n",
       "      <td>@stighefootball Begovic has been garbage. He g...</td>\n",
       "    </tr>\n",
       "    <tr>\n",
       "      <th>3251</th>\n",
       "      <td>10828</td>\n",
       "      <td>wrecked</td>\n",
       "      <td>NaN</td>\n",
       "      <td>Wrecked today got my hattrick ????</td>\n",
       "    </tr>\n",
       "    <tr>\n",
       "      <th>3252</th>\n",
       "      <td>10836</td>\n",
       "      <td>NaN</td>\n",
       "      <td>NaN</td>\n",
       "      <td>#Ebola #EbolaOutbreak Ebola Virus: Birmingham ...</td>\n",
       "    </tr>\n",
       "  </tbody>\n",
       "</table>\n",
       "<p>3253 rows × 4 columns</p>\n",
       "</div>"
      ],
      "text/plain": [
       "         id  keyword                          location  \\\n",
       "0         0      NaN                               NaN   \n",
       "1         2      NaN                               NaN   \n",
       "2         3      NaN                               NaN   \n",
       "3         9      NaN                               NaN   \n",
       "4        11      NaN                               NaN   \n",
       "...     ...      ...                               ...   \n",
       "3248  10807  wrecked  Acey mountain islanddåÇTorontoåÈ   \n",
       "3249  10816  wrecked                       los angeles   \n",
       "3250  10820  wrecked                 Brussels, Belgium   \n",
       "3251  10828  wrecked                               NaN   \n",
       "3252  10836      NaN                               NaN   \n",
       "\n",
       "                                                   text  \n",
       "0                    Just happened a terrible car crash  \n",
       "1     Heard about #earthquake is different cities, s...  \n",
       "2     there is a forest fire at spot pond, geese are...  \n",
       "3              Apocalypse lighting. #Spokane #wildfires  \n",
       "4         Typhoon Soudelor kills 28 in China and Taiwan  \n",
       "...                                                 ...  \n",
       "3248  Smackdown tyme this should put me in a good mo...  \n",
       "3249  @thrillhho jsyk I haven't stopped thinking abt...  \n",
       "3250  @stighefootball Begovic has been garbage. He g...  \n",
       "3251                 Wrecked today got my hattrick ????  \n",
       "3252  #Ebola #EbolaOutbreak Ebola Virus: Birmingham ...  \n",
       "\n",
       "[3253 rows x 4 columns]"
      ]
     },
     "execution_count": 59,
     "metadata": {},
     "output_type": "execute_result"
    }
   ],
   "source": [
    "data.head(-10) #밑에서 10번째꺼 까지 전부"
   ]
  },
  {
   "cell_type": "code",
   "execution_count": 60,
   "id": "46378072",
   "metadata": {},
   "outputs": [
    {
     "data": {
      "text/html": [
       "<div>\n",
       "<style scoped>\n",
       "    .dataframe tbody tr th:only-of-type {\n",
       "        vertical-align: middle;\n",
       "    }\n",
       "\n",
       "    .dataframe tbody tr th {\n",
       "        vertical-align: top;\n",
       "    }\n",
       "\n",
       "    .dataframe thead th {\n",
       "        text-align: right;\n",
       "    }\n",
       "</style>\n",
       "<table border=\"1\" class=\"dataframe\">\n",
       "  <thead>\n",
       "    <tr style=\"text-align: right;\">\n",
       "      <th></th>\n",
       "      <th>id</th>\n",
       "      <th>keyword</th>\n",
       "      <th>location</th>\n",
       "      <th>text</th>\n",
       "    </tr>\n",
       "  </thead>\n",
       "  <tbody>\n",
       "    <tr>\n",
       "      <th>10</th>\n",
       "      <td>30</td>\n",
       "      <td>NaN</td>\n",
       "      <td>NaN</td>\n",
       "      <td>No I don't like cold!</td>\n",
       "    </tr>\n",
       "    <tr>\n",
       "      <th>11</th>\n",
       "      <td>35</td>\n",
       "      <td>NaN</td>\n",
       "      <td>NaN</td>\n",
       "      <td>NOOOOOOOOO! Don't do that!</td>\n",
       "    </tr>\n",
       "    <tr>\n",
       "      <th>12</th>\n",
       "      <td>42</td>\n",
       "      <td>NaN</td>\n",
       "      <td>NaN</td>\n",
       "      <td>No don't tell me that!</td>\n",
       "    </tr>\n",
       "    <tr>\n",
       "      <th>13</th>\n",
       "      <td>43</td>\n",
       "      <td>NaN</td>\n",
       "      <td>NaN</td>\n",
       "      <td>What if?!</td>\n",
       "    </tr>\n",
       "    <tr>\n",
       "      <th>14</th>\n",
       "      <td>45</td>\n",
       "      <td>NaN</td>\n",
       "      <td>NaN</td>\n",
       "      <td>Awesome!</td>\n",
       "    </tr>\n",
       "    <tr>\n",
       "      <th>...</th>\n",
       "      <td>...</td>\n",
       "      <td>...</td>\n",
       "      <td>...</td>\n",
       "      <td>...</td>\n",
       "    </tr>\n",
       "    <tr>\n",
       "      <th>3258</th>\n",
       "      <td>10861</td>\n",
       "      <td>NaN</td>\n",
       "      <td>NaN</td>\n",
       "      <td>EARTHQUAKE SAFETY LOS ANGELES ÛÒ SAFETY FASTE...</td>\n",
       "    </tr>\n",
       "    <tr>\n",
       "      <th>3259</th>\n",
       "      <td>10865</td>\n",
       "      <td>NaN</td>\n",
       "      <td>NaN</td>\n",
       "      <td>Storm in RI worse than last hurricane. My city...</td>\n",
       "    </tr>\n",
       "    <tr>\n",
       "      <th>3260</th>\n",
       "      <td>10868</td>\n",
       "      <td>NaN</td>\n",
       "      <td>NaN</td>\n",
       "      <td>Green Line derailment in Chicago http://t.co/U...</td>\n",
       "    </tr>\n",
       "    <tr>\n",
       "      <th>3261</th>\n",
       "      <td>10874</td>\n",
       "      <td>NaN</td>\n",
       "      <td>NaN</td>\n",
       "      <td>MEG issues Hazardous Weather Outlook (HWO) htt...</td>\n",
       "    </tr>\n",
       "    <tr>\n",
       "      <th>3262</th>\n",
       "      <td>10875</td>\n",
       "      <td>NaN</td>\n",
       "      <td>NaN</td>\n",
       "      <td>#CityofCalgary has activated its Municipal Eme...</td>\n",
       "    </tr>\n",
       "  </tbody>\n",
       "</table>\n",
       "<p>3253 rows × 4 columns</p>\n",
       "</div>"
      ],
      "text/plain": [
       "         id keyword location  \\\n",
       "10       30     NaN      NaN   \n",
       "11       35     NaN      NaN   \n",
       "12       42     NaN      NaN   \n",
       "13       43     NaN      NaN   \n",
       "14       45     NaN      NaN   \n",
       "...     ...     ...      ...   \n",
       "3258  10861     NaN      NaN   \n",
       "3259  10865     NaN      NaN   \n",
       "3260  10868     NaN      NaN   \n",
       "3261  10874     NaN      NaN   \n",
       "3262  10875     NaN      NaN   \n",
       "\n",
       "                                                   text  \n",
       "10                                No I don't like cold!  \n",
       "11                           NOOOOOOOOO! Don't do that!  \n",
       "12                               No don't tell me that!  \n",
       "13                                            What if?!  \n",
       "14                                             Awesome!  \n",
       "...                                                 ...  \n",
       "3258  EARTHQUAKE SAFETY LOS ANGELES ÛÒ SAFETY FASTE...  \n",
       "3259  Storm in RI worse than last hurricane. My city...  \n",
       "3260  Green Line derailment in Chicago http://t.co/U...  \n",
       "3261  MEG issues Hazardous Weather Outlook (HWO) htt...  \n",
       "3262  #CityofCalgary has activated its Municipal Eme...  \n",
       "\n",
       "[3253 rows x 4 columns]"
      ]
     },
     "execution_count": 60,
     "metadata": {},
     "output_type": "execute_result"
    }
   ],
   "source": [
    "data.tail(-10) #위에서 10번째 까지 빼고 전부"
   ]
  },
  {
   "cell_type": "code",
   "execution_count": 78,
   "id": "33c0b4fe",
   "metadata": {},
   "outputs": [
    {
     "data": {
      "text/html": [
       "<div>\n",
       "<style scoped>\n",
       "    .dataframe tbody tr th:only-of-type {\n",
       "        vertical-align: middle;\n",
       "    }\n",
       "\n",
       "    .dataframe tbody tr th {\n",
       "        vertical-align: top;\n",
       "    }\n",
       "\n",
       "    .dataframe thead th {\n",
       "        text-align: right;\n",
       "    }\n",
       "</style>\n",
       "<table border=\"1\" class=\"dataframe\">\n",
       "  <thead>\n",
       "    <tr style=\"text-align: right;\">\n",
       "      <th></th>\n",
       "      <th>구   분</th>\n",
       "      <th>미세먼지(㎍/㎥)</th>\n",
       "      <th>이산화탄소(ppm)</th>\n",
       "      <th>일산화탄소(ppm)</th>\n",
       "      <th>포름알데히드(㎍/㎥)</th>\n",
       "      <th>이산화질소(ppm)</th>\n",
       "      <th>라돈(Bq/㎥)</th>\n",
       "      <th>휘발성유기화합물(㎍/㎥)</th>\n",
       "      <th>오존(ppm)</th>\n",
       "      <th>석면(개/cc)</th>\n",
       "      <th>온도(℃)</th>\n",
       "      <th>습도(% RH)</th>\n",
       "      <th>기류</th>\n",
       "    </tr>\n",
       "  </thead>\n",
       "  <tbody>\n",
       "    <tr>\n",
       "      <th>0</th>\n",
       "      <td>전포주차장(지하1층)</td>\n",
       "      <td>47.5</td>\n",
       "      <td>372</td>\n",
       "      <td>1.2</td>\n",
       "      <td>4.7</td>\n",
       "      <td>0.028</td>\n",
       "      <td>11.2</td>\n",
       "      <td>80.7</td>\n",
       "      <td>_</td>\n",
       "      <td>_</td>\n",
       "      <td>16.5</td>\n",
       "      <td>35.1</td>\n",
       "      <td>NaN</td>\n",
       "    </tr>\n",
       "    <tr>\n",
       "      <th>1</th>\n",
       "      <td>전포주차장(지하2층)</td>\n",
       "      <td>58.7</td>\n",
       "      <td>355</td>\n",
       "      <td>1.1</td>\n",
       "      <td>4.5</td>\n",
       "      <td>0.031</td>\n",
       "      <td>19.6</td>\n",
       "      <td>73.8</td>\n",
       "      <td>_</td>\n",
       "      <td>_</td>\n",
       "      <td>16.6</td>\n",
       "      <td>35.3</td>\n",
       "      <td>NaN</td>\n",
       "    </tr>\n",
       "    <tr>\n",
       "      <th>2</th>\n",
       "      <td>수영주차장(지하 2-1)</td>\n",
       "      <td>55.6</td>\n",
       "      <td>413</td>\n",
       "      <td>1.8</td>\n",
       "      <td>3.7</td>\n",
       "      <td>0.033</td>\n",
       "      <td>12.9</td>\n",
       "      <td>62.4</td>\n",
       "      <td>_</td>\n",
       "      <td>_</td>\n",
       "      <td>22.6</td>\n",
       "      <td>61.7</td>\n",
       "      <td>NaN</td>\n",
       "    </tr>\n",
       "    <tr>\n",
       "      <th>3</th>\n",
       "      <td>수영주차장(지하 2-2)</td>\n",
       "      <td>42.1</td>\n",
       "      <td>417</td>\n",
       "      <td>1.7</td>\n",
       "      <td>8.9</td>\n",
       "      <td>0.031</td>\n",
       "      <td>15.5</td>\n",
       "      <td>59.4</td>\n",
       "      <td>_</td>\n",
       "      <td>_</td>\n",
       "      <td>22.9</td>\n",
       "      <td>62.5</td>\n",
       "      <td>NaN</td>\n",
       "    </tr>\n",
       "    <tr>\n",
       "      <th>4</th>\n",
       "      <td>수영주차장(지하 3-1)</td>\n",
       "      <td>41.8</td>\n",
       "      <td>417</td>\n",
       "      <td>1.7</td>\n",
       "      <td>3.8</td>\n",
       "      <td>0.033</td>\n",
       "      <td>14.1</td>\n",
       "      <td>31.4</td>\n",
       "      <td>_</td>\n",
       "      <td>_</td>\n",
       "      <td>24.6</td>\n",
       "      <td>66.5</td>\n",
       "      <td>NaN</td>\n",
       "    </tr>\n",
       "    <tr>\n",
       "      <th>5</th>\n",
       "      <td>수영주차장(지하 3-2)</td>\n",
       "      <td>49.4</td>\n",
       "      <td>421</td>\n",
       "      <td>1.7</td>\n",
       "      <td>3.6</td>\n",
       "      <td>0.034</td>\n",
       "      <td>13.3</td>\n",
       "      <td>60.1</td>\n",
       "      <td>_</td>\n",
       "      <td>_</td>\n",
       "      <td>23.8</td>\n",
       "      <td>63.8</td>\n",
       "      <td>NaN</td>\n",
       "    </tr>\n",
       "    <tr>\n",
       "      <th>6</th>\n",
       "      <td>수영상가(만남의 장소)</td>\n",
       "      <td>50.2</td>\n",
       "      <td>396</td>\n",
       "      <td>1.0</td>\n",
       "      <td>14.1</td>\n",
       "      <td>0.033</td>\n",
       "      <td>8.1</td>\n",
       "      <td>28.7</td>\n",
       "      <td>_</td>\n",
       "      <td>_</td>\n",
       "      <td>20.3</td>\n",
       "      <td>74.0</td>\n",
       "      <td>NaN</td>\n",
       "    </tr>\n",
       "    <tr>\n",
       "      <th>7</th>\n",
       "      <td>수영상가 입구</td>\n",
       "      <td>50.5</td>\n",
       "      <td>391</td>\n",
       "      <td>0.9</td>\n",
       "      <td>6.5</td>\n",
       "      <td>0.035</td>\n",
       "      <td>7.3</td>\n",
       "      <td>40.1</td>\n",
       "      <td>_</td>\n",
       "      <td>_</td>\n",
       "      <td>20.5</td>\n",
       "      <td>73.9</td>\n",
       "      <td>NaN</td>\n",
       "    </tr>\n",
       "  </tbody>\n",
       "</table>\n",
       "</div>"
      ],
      "text/plain": [
       "           구   분  미세먼지(㎍/㎥)  이산화탄소(ppm)  일산화탄소(ppm)  포름알데히드(㎍/㎥)  이산화질소(ppm)  \\\n",
       "0    전포주차장(지하1층)       47.5         372         1.2          4.7       0.028   \n",
       "1    전포주차장(지하2층)       58.7         355         1.1          4.5       0.031   \n",
       "2  수영주차장(지하 2-1)       55.6         413         1.8          3.7       0.033   \n",
       "3  수영주차장(지하 2-2)       42.1         417         1.7          8.9       0.031   \n",
       "4  수영주차장(지하 3-1)       41.8         417         1.7          3.8       0.033   \n",
       "5  수영주차장(지하 3-2)       49.4         421         1.7          3.6       0.034   \n",
       "6   수영상가(만남의 장소)       50.2         396         1.0         14.1       0.033   \n",
       "7        수영상가 입구       50.5         391         0.9          6.5       0.035   \n",
       "\n",
       "   라돈(Bq/㎥)  휘발성유기화합물(㎍/㎥) 오존(ppm) 석면(개/cc)  온도(℃)  습도(% RH)  기류  \n",
       "0      11.2           80.7       _        _   16.5      35.1 NaN  \n",
       "1      19.6           73.8       _        _   16.6      35.3 NaN  \n",
       "2      12.9           62.4       _        _   22.6      61.7 NaN  \n",
       "3      15.5           59.4       _        _   22.9      62.5 NaN  \n",
       "4      14.1           31.4       _        _   24.6      66.5 NaN  \n",
       "5      13.3           60.1       _        _   23.8      63.8 NaN  \n",
       "6       8.1           28.7       _        _   20.3      74.0 NaN  \n",
       "7       7.3           40.1       _        _   20.5      73.9 NaN  "
      ]
     },
     "execution_count": 78,
     "metadata": {},
     "output_type": "execute_result"
    }
   ],
   "source": [
    "air_data = pd.read_csv(\"./data/busan_air_condition.csv\",encoding=\"CP949\")\n",
    "air_data"
   ]
  },
  {
   "cell_type": "code",
   "execution_count": 90,
   "id": "7d932ef3",
   "metadata": {},
   "outputs": [
    {
     "data": {
      "text/html": [
       "<div>\n",
       "<style scoped>\n",
       "    .dataframe tbody tr th:only-of-type {\n",
       "        vertical-align: middle;\n",
       "    }\n",
       "\n",
       "    .dataframe tbody tr th {\n",
       "        vertical-align: top;\n",
       "    }\n",
       "\n",
       "    .dataframe thead th {\n",
       "        text-align: right;\n",
       "    }\n",
       "</style>\n",
       "<table border=\"1\" class=\"dataframe\">\n",
       "  <thead>\n",
       "    <tr style=\"text-align: right;\">\n",
       "      <th></th>\n",
       "      <th>구   분</th>\n",
       "      <th>미세먼지(㎍/㎥)</th>\n",
       "      <th>이산화탄소(ppm)</th>\n",
       "      <th>일산화탄소(ppm)</th>\n",
       "      <th>포름알데히드(㎍/㎥)</th>\n",
       "      <th>이산화질소(ppm)</th>\n",
       "      <th>라돈(Bq/㎥)</th>\n",
       "      <th>휘발성유기화합물(㎍/㎥)</th>\n",
       "      <th>오존(ppm)</th>\n",
       "      <th>석면(개/cc)</th>\n",
       "      <th>온도(℃)</th>\n",
       "      <th>습도(% RH)</th>\n",
       "      <th>기류</th>\n",
       "    </tr>\n",
       "  </thead>\n",
       "  <tbody>\n",
       "    <tr>\n",
       "      <th>0</th>\n",
       "      <td>전포주차장(지하1층)</td>\n",
       "      <td>47.5</td>\n",
       "      <td>372</td>\n",
       "      <td>1.2</td>\n",
       "      <td>4.7</td>\n",
       "      <td>0.028</td>\n",
       "      <td>11.2</td>\n",
       "      <td>80.7</td>\n",
       "      <td>_</td>\n",
       "      <td>_</td>\n",
       "      <td>16.5</td>\n",
       "      <td>35.1</td>\n",
       "      <td>NaN</td>\n",
       "    </tr>\n",
       "    <tr>\n",
       "      <th>1</th>\n",
       "      <td>전포주차장(지하2층)</td>\n",
       "      <td>58.7</td>\n",
       "      <td>355</td>\n",
       "      <td>1.1</td>\n",
       "      <td>4.5</td>\n",
       "      <td>0.031</td>\n",
       "      <td>19.6</td>\n",
       "      <td>73.8</td>\n",
       "      <td>_</td>\n",
       "      <td>_</td>\n",
       "      <td>16.6</td>\n",
       "      <td>35.3</td>\n",
       "      <td>NaN</td>\n",
       "    </tr>\n",
       "    <tr>\n",
       "      <th>2</th>\n",
       "      <td>수영주차장(지하 2-1)</td>\n",
       "      <td>55.6</td>\n",
       "      <td>413</td>\n",
       "      <td>1.8</td>\n",
       "      <td>3.7</td>\n",
       "      <td>0.033</td>\n",
       "      <td>12.9</td>\n",
       "      <td>62.4</td>\n",
       "      <td>_</td>\n",
       "      <td>_</td>\n",
       "      <td>22.6</td>\n",
       "      <td>61.7</td>\n",
       "      <td>NaN</td>\n",
       "    </tr>\n",
       "    <tr>\n",
       "      <th>3</th>\n",
       "      <td>수영주차장(지하 2-2)</td>\n",
       "      <td>42.1</td>\n",
       "      <td>417</td>\n",
       "      <td>1.7</td>\n",
       "      <td>8.9</td>\n",
       "      <td>0.031</td>\n",
       "      <td>15.5</td>\n",
       "      <td>59.4</td>\n",
       "      <td>_</td>\n",
       "      <td>_</td>\n",
       "      <td>22.9</td>\n",
       "      <td>62.5</td>\n",
       "      <td>NaN</td>\n",
       "    </tr>\n",
       "    <tr>\n",
       "      <th>4</th>\n",
       "      <td>수영주차장(지하 3-1)</td>\n",
       "      <td>41.8</td>\n",
       "      <td>417</td>\n",
       "      <td>1.7</td>\n",
       "      <td>3.8</td>\n",
       "      <td>0.033</td>\n",
       "      <td>14.1</td>\n",
       "      <td>31.4</td>\n",
       "      <td>_</td>\n",
       "      <td>_</td>\n",
       "      <td>24.6</td>\n",
       "      <td>66.5</td>\n",
       "      <td>NaN</td>\n",
       "    </tr>\n",
       "    <tr>\n",
       "      <th>5</th>\n",
       "      <td>수영주차장(지하 3-2)</td>\n",
       "      <td>49.4</td>\n",
       "      <td>421</td>\n",
       "      <td>1.7</td>\n",
       "      <td>3.6</td>\n",
       "      <td>0.034</td>\n",
       "      <td>13.3</td>\n",
       "      <td>60.1</td>\n",
       "      <td>_</td>\n",
       "      <td>_</td>\n",
       "      <td>23.8</td>\n",
       "      <td>63.8</td>\n",
       "      <td>NaN</td>\n",
       "    </tr>\n",
       "    <tr>\n",
       "      <th>6</th>\n",
       "      <td>수영상가(만남의 장소)</td>\n",
       "      <td>50.2</td>\n",
       "      <td>396</td>\n",
       "      <td>1.0</td>\n",
       "      <td>14.1</td>\n",
       "      <td>0.033</td>\n",
       "      <td>8.1</td>\n",
       "      <td>28.7</td>\n",
       "      <td>_</td>\n",
       "      <td>_</td>\n",
       "      <td>20.3</td>\n",
       "      <td>74.0</td>\n",
       "      <td>NaN</td>\n",
       "    </tr>\n",
       "    <tr>\n",
       "      <th>7</th>\n",
       "      <td>수영상가 입구</td>\n",
       "      <td>50.5</td>\n",
       "      <td>391</td>\n",
       "      <td>0.9</td>\n",
       "      <td>6.5</td>\n",
       "      <td>0.035</td>\n",
       "      <td>7.3</td>\n",
       "      <td>40.1</td>\n",
       "      <td>_</td>\n",
       "      <td>_</td>\n",
       "      <td>20.5</td>\n",
       "      <td>73.9</td>\n",
       "      <td>NaN</td>\n",
       "    </tr>\n",
       "  </tbody>\n",
       "</table>\n",
       "</div>"
      ],
      "text/plain": [
       "           구   분  미세먼지(㎍/㎥)  이산화탄소(ppm)  일산화탄소(ppm)  포름알데히드(㎍/㎥)  이산화질소(ppm)  \\\n",
       "0    전포주차장(지하1층)       47.5         372         1.2          4.7       0.028   \n",
       "1    전포주차장(지하2층)       58.7         355         1.1          4.5       0.031   \n",
       "2  수영주차장(지하 2-1)       55.6         413         1.8          3.7       0.033   \n",
       "3  수영주차장(지하 2-2)       42.1         417         1.7          8.9       0.031   \n",
       "4  수영주차장(지하 3-1)       41.8         417         1.7          3.8       0.033   \n",
       "5  수영주차장(지하 3-2)       49.4         421         1.7          3.6       0.034   \n",
       "6   수영상가(만남의 장소)       50.2         396         1.0         14.1       0.033   \n",
       "7        수영상가 입구       50.5         391         0.9          6.5       0.035   \n",
       "\n",
       "   라돈(Bq/㎥)  휘발성유기화합물(㎍/㎥) 오존(ppm) 석면(개/cc)  온도(℃)  습도(% RH)  기류  \n",
       "0      11.2           80.7       _        _   16.5      35.1 NaN  \n",
       "1      19.6           73.8       _        _   16.6      35.3 NaN  \n",
       "2      12.9           62.4       _        _   22.6      61.7 NaN  \n",
       "3      15.5           59.4       _        _   22.9      62.5 NaN  \n",
       "4      14.1           31.4       _        _   24.6      66.5 NaN  \n",
       "5      13.3           60.1       _        _   23.8      63.8 NaN  \n",
       "6       8.1           28.7       _        _   20.3      74.0 NaN  \n",
       "7       7.3           40.1       _        _   20.5      73.9 NaN  "
      ]
     },
     "execution_count": 90,
     "metadata": {},
     "output_type": "execute_result"
    }
   ],
   "source": [
    "pd1 = pd.DataFrame(air_data)\n",
    "pd1"
   ]
  },
  {
   "cell_type": "code",
   "execution_count": 114,
   "id": "5f46e7ba",
   "metadata": {},
   "outputs": [
    {
     "data": {
      "text/plain": [
       "12.75"
      ]
     },
     "execution_count": 114,
     "metadata": {},
     "output_type": "execute_result"
    }
   ],
   "source": [
    "pd1['라돈(Bq/㎥)'].mean()"
   ]
  },
  {
   "cell_type": "code",
   "execution_count": 115,
   "id": "475effaa",
   "metadata": {},
   "outputs": [
    {
     "data": {
      "text/plain": [
       "49.474999999999994"
      ]
     },
     "execution_count": 115,
     "metadata": {},
     "output_type": "execute_result"
    }
   ],
   "source": [
    "pd1['미세먼지(㎍/㎥)'].mean()"
   ]
  },
  {
   "cell_type": "code",
   "execution_count": 109,
   "id": "2eec7eb1",
   "metadata": {},
   "outputs": [
    {
     "data": {
      "text/html": [
       "<div>\n",
       "<style scoped>\n",
       "    .dataframe tbody tr th:only-of-type {\n",
       "        vertical-align: middle;\n",
       "    }\n",
       "\n",
       "    .dataframe tbody tr th {\n",
       "        vertical-align: top;\n",
       "    }\n",
       "\n",
       "    .dataframe thead th {\n",
       "        text-align: right;\n",
       "    }\n",
       "</style>\n",
       "<table border=\"1\" class=\"dataframe\">\n",
       "  <thead>\n",
       "    <tr style=\"text-align: right;\">\n",
       "      <th></th>\n",
       "      <th>name</th>\n",
       "      <th>price</th>\n",
       "    </tr>\n",
       "  </thead>\n",
       "  <tbody>\n",
       "    <tr>\n",
       "      <th>0</th>\n",
       "      <td>1</td>\n",
       "      <td>1234.0</td>\n",
       "    </tr>\n",
       "    <tr>\n",
       "      <th>1</th>\n",
       "      <td>2</td>\n",
       "      <td>NaN</td>\n",
       "    </tr>\n",
       "    <tr>\n",
       "      <th>2</th>\n",
       "      <td>3</td>\n",
       "      <td>14512.0</td>\n",
       "    </tr>\n",
       "    <tr>\n",
       "      <th>3</th>\n",
       "      <td>4</td>\n",
       "      <td>NaN</td>\n",
       "    </tr>\n",
       "  </tbody>\n",
       "</table>\n",
       "</div>"
      ],
      "text/plain": [
       "   name    price\n",
       "0     1   1234.0\n",
       "1     2      NaN\n",
       "2     3  14512.0\n",
       "3     4      NaN"
      ]
     },
     "execution_count": 109,
     "metadata": {},
     "output_type": "execute_result"
    }
   ],
   "source": [
    "import pandas as pd\n",
    "from numpy import NaN\n",
    "\n",
    "robots = [[1,1234],[2,NaN],[3,14512],[4,NaN]]\n",
    "x = pd.DataFrame(robots, columns=[\"name\",\"price\"])\n",
    "x"
   ]
  },
  {
   "cell_type": "code",
   "execution_count": 111,
   "id": "645f79e0",
   "metadata": {},
   "outputs": [
    {
     "data": {
      "text/html": [
       "<div>\n",
       "<style scoped>\n",
       "    .dataframe tbody tr th:only-of-type {\n",
       "        vertical-align: middle;\n",
       "    }\n",
       "\n",
       "    .dataframe tbody tr th {\n",
       "        vertical-align: top;\n",
       "    }\n",
       "\n",
       "    .dataframe thead th {\n",
       "        text-align: right;\n",
       "    }\n",
       "</style>\n",
       "<table border=\"1\" class=\"dataframe\">\n",
       "  <thead>\n",
       "    <tr style=\"text-align: right;\">\n",
       "      <th></th>\n",
       "      <th>name</th>\n",
       "      <th>price</th>\n",
       "    </tr>\n",
       "  </thead>\n",
       "  <tbody>\n",
       "    <tr>\n",
       "      <th>0</th>\n",
       "      <td>1</td>\n",
       "      <td>1234.0</td>\n",
       "    </tr>\n",
       "    <tr>\n",
       "      <th>2</th>\n",
       "      <td>3</td>\n",
       "      <td>14512.0</td>\n",
       "    </tr>\n",
       "  </tbody>\n",
       "</table>\n",
       "</div>"
      ],
      "text/plain": [
       "   name    price\n",
       "0     1   1234.0\n",
       "2     3  14512.0"
      ]
     },
     "execution_count": 111,
     "metadata": {},
     "output_type": "execute_result"
    }
   ],
   "source": [
    "x.dropna()"
   ]
  },
  {
   "cell_type": "code",
   "execution_count": 119,
   "id": "136661aa",
   "metadata": {},
   "outputs": [
    {
     "data": {
      "text/plain": [
       "(array([0.   , 0.   , 0.   , 0.002, 0.004, 0.038, 0.086, 0.18 , 0.286,\n",
       "        0.42 , 0.388, 0.284, 0.14 , 0.108, 0.05 , 0.006, 0.008, 0.   ,\n",
       "        0.   , 0.   ]),\n",
       " array([-5. , -4.5, -4. , -3.5, -3. , -2.5, -2. , -1.5, -1. , -0.5,  0. ,\n",
       "         0.5,  1. ,  1.5,  2. ,  2.5,  3. ,  3.5,  4. ,  4.5,  5. ]),\n",
       " <BarContainer object of 20 artists>)"
      ]
     },
     "execution_count": 119,
     "metadata": {},
     "output_type": "execute_result"
    },
    {
     "data": {
      "image/png": "[encoded data removed]",
      "text/plain": [
       "<Figure size 432x288 with 1 Axes>"
      ]
     },
     "metadata": {
      "needs_background": "light"
     },
     "output_type": "display_data"
    }
   ],
   "source": [
    "import matplotlib.pyplot as plt\n",
    "import numpy as np\n",
    "x = np.random.randn(1000)\n",
    "plt.hist(x, density = True, bins = np.linspace(-5,5,21))"
   ]
  },
  {
   "cell_type": "code",
   "execution_count": 125,
   "id": "33b940a0",
   "metadata": {},
   "outputs": [],
   "source": [
    "import pandas as pd\n",
    "import numpy as np\n",
    "\n",
    "ary =[[1,1,'손'],[2,2,'날개'],[3,3,'손']]\n",
    "data = pd.DataFrame(ary, columns=['수온','상온','hand'])\n",
    "df_1 = pd.get_dummies(data['hand'])"
   ]
  },
  {
   "cell_type": "code",
   "execution_count": 129,
   "id": "d55ed587",
   "metadata": {},
   "outputs": [
    {
     "ename": "MergeError",
     "evalue": "No common columns to perform merge on. Merge options: left_on=None, right_on=None, left_index=False, right_index=False",
     "output_type": "error",
     "traceback": [
      "\u001b[1;31m---------------------------------------------------------------------------\u001b[0m",
      "\u001b[1;31mMergeError\u001b[0m                                Traceback (most recent call last)",
      "\u001b[1;32m<ipython-input-129-2a6709d6b680>\u001b[0m in \u001b[0;36m<module>\u001b[1;34m\u001b[0m\n\u001b[1;32m----> 1\u001b[1;33m \u001b[0mdf_2\u001b[0m \u001b[1;33m=\u001b[0m \u001b[0mpd\u001b[0m\u001b[1;33m.\u001b[0m\u001b[0mmerge\u001b[0m\u001b[1;33m(\u001b[0m\u001b[0mdata\u001b[0m\u001b[1;33m,\u001b[0m\u001b[0mdf_1\u001b[0m\u001b[1;33m,\u001b[0m \u001b[0mhow\u001b[0m\u001b[1;33m=\u001b[0m\u001b[1;34m'outer'\u001b[0m\u001b[1;33m)\u001b[0m\u001b[1;33m\u001b[0m\u001b[1;33m\u001b[0m\u001b[0m\n\u001b[0m",
      "\u001b[1;32mc:\\users\\ad\\appdata\\local\\programs\\python\\python38\\lib\\site-packages\\pandas\\core\\reshape\\merge.py\u001b[0m in \u001b[0;36mmerge\u001b[1;34m(left, right, how, on, left_on, right_on, left_index, right_index, sort, suffixes, copy, indicator, validate)\u001b[0m\n\u001b[0;32m     72\u001b[0m     \u001b[0mvalidate\u001b[0m\u001b[1;33m=\u001b[0m\u001b[1;32mNone\u001b[0m\u001b[1;33m,\u001b[0m\u001b[1;33m\u001b[0m\u001b[1;33m\u001b[0m\u001b[0m\n\u001b[0;32m     73\u001b[0m ) -> \"DataFrame\":\n\u001b[1;32m---> 74\u001b[1;33m     op = _MergeOperation(\n\u001b[0m\u001b[0;32m     75\u001b[0m         \u001b[0mleft\u001b[0m\u001b[1;33m,\u001b[0m\u001b[1;33m\u001b[0m\u001b[1;33m\u001b[0m\u001b[0m\n\u001b[0;32m     76\u001b[0m         \u001b[0mright\u001b[0m\u001b[1;33m,\u001b[0m\u001b[1;33m\u001b[0m\u001b[1;33m\u001b[0m\u001b[0m\n",
      "\u001b[1;32mc:\\users\\ad\\appdata\\local\\programs\\python\\python38\\lib\\site-packages\\pandas\\core\\reshape\\merge.py\u001b[0m in \u001b[0;36m__init__\u001b[1;34m(self, left, right, how, on, left_on, right_on, axis, left_index, right_index, sort, suffixes, copy, indicator, validate)\u001b[0m\n\u001b[0;32m    648\u001b[0m             \u001b[0mwarnings\u001b[0m\u001b[1;33m.\u001b[0m\u001b[0mwarn\u001b[0m\u001b[1;33m(\u001b[0m\u001b[0mmsg\u001b[0m\u001b[1;33m,\u001b[0m \u001b[0mUserWarning\u001b[0m\u001b[1;33m)\u001b[0m\u001b[1;33m\u001b[0m\u001b[1;33m\u001b[0m\u001b[0m\n\u001b[0;32m    649\u001b[0m \u001b[1;33m\u001b[0m\u001b[0m\n\u001b[1;32m--> 650\u001b[1;33m         \u001b[0mself\u001b[0m\u001b[1;33m.\u001b[0m\u001b[0m_validate_specification\u001b[0m\u001b[1;33m(\u001b[0m\u001b[1;33m)\u001b[0m\u001b[1;33m\u001b[0m\u001b[1;33m\u001b[0m\u001b[0m\n\u001b[0m\u001b[0;32m    651\u001b[0m \u001b[1;33m\u001b[0m\u001b[0m\n\u001b[0;32m    652\u001b[0m         \u001b[0mcross_col\u001b[0m \u001b[1;33m=\u001b[0m \u001b[1;32mNone\u001b[0m\u001b[1;33m\u001b[0m\u001b[1;33m\u001b[0m\u001b[0m\n",
      "\u001b[1;32mc:\\users\\ad\\appdata\\local\\programs\\python\\python38\\lib\\site-packages\\pandas\\core\\reshape\\merge.py\u001b[0m in \u001b[0;36m_validate_specification\u001b[1;34m(self)\u001b[0m\n\u001b[0;32m   1281\u001b[0m                 \u001b[0mcommon_cols\u001b[0m \u001b[1;33m=\u001b[0m \u001b[0mleft_cols\u001b[0m\u001b[1;33m.\u001b[0m\u001b[0mintersection\u001b[0m\u001b[1;33m(\u001b[0m\u001b[0mright_cols\u001b[0m\u001b[1;33m)\u001b[0m\u001b[1;33m\u001b[0m\u001b[1;33m\u001b[0m\u001b[0m\n\u001b[0;32m   1282\u001b[0m                 \u001b[1;32mif\u001b[0m \u001b[0mlen\u001b[0m\u001b[1;33m(\u001b[0m\u001b[0mcommon_cols\u001b[0m\u001b[1;33m)\u001b[0m \u001b[1;33m==\u001b[0m \u001b[1;36m0\u001b[0m\u001b[1;33m:\u001b[0m\u001b[1;33m\u001b[0m\u001b[1;33m\u001b[0m\u001b[0m\n\u001b[1;32m-> 1283\u001b[1;33m                     raise MergeError(\n\u001b[0m\u001b[0;32m   1284\u001b[0m                         \u001b[1;34m\"No common columns to perform merge on. \"\u001b[0m\u001b[1;33m\u001b[0m\u001b[1;33m\u001b[0m\u001b[0m\n\u001b[0;32m   1285\u001b[0m                         \u001b[1;34mf\"Merge options: left_on={self.left_on}, \"\u001b[0m\u001b[1;33m\u001b[0m\u001b[1;33m\u001b[0m\u001b[0m\n",
      "\u001b[1;31mMergeError\u001b[0m: No common columns to perform merge on. Merge options: left_on=None, right_on=None, left_index=False, right_index=False"
     ]
    }
   ],
   "source": [
    "df_2 = pd.merge(data,df_1, how='outer')"
   ]
  },
  {
   "cell_type": "code",
   "execution_count": null,
   "id": "1a735588",
   "metadata": {},
   "outputs": [],
   "source": []
  }
 ],
 "metadata": {
  "kernelspec": {
   "display_name": "Python 3",
   "language": "python",
   "name": "python3"
  },
  "language_info": {
   "codemirror_mode": {
    "name": "ipython",
    "version": 3
   },
   "file_extension": ".py",
   "mimetype": "text/x-python",
   "name": "python",
   "nbconvert_exporter": "python",
   "pygments_lexer": "ipython3",
   "version": "3.8.9"
  }
 },
 "nbformat": 4,
 "nbformat_minor": 5
}
